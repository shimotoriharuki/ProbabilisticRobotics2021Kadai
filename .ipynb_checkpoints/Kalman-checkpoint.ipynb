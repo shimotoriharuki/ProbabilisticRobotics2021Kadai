{
 "cells": [
  {
   "cell_type": "markdown",
   "metadata": {},
   "source": [
    "# 確率ロボティクス 2021年度 課題\n",
    "拡張カルマンフィルタを用いた自己位置推定のアルゴリズムをシミュレーションする．"
   ]
  },
  {
   "cell_type": "code",
   "execution_count": 20,
   "metadata": {},
   "outputs": [],
   "source": [
    "# インポート\n",
    "import matplotlib.pyplot as plt\n",
    "import numpy as np\n",
    "import math"
   ]
  },
  {
   "cell_type": "code",
   "execution_count": 68,
   "metadata": {},
   "outputs": [],
   "source": [
    "class Robot:\n",
    "    def __init__(self, x, y, th):\n",
    "        self.actual_pose = [np.array([x, y, th])]\n",
    "        self.pose = [np.array([x, y, th])]\n",
    "        \n",
    "    def updateRobotPos(self, d_dis, d_th):\n",
    "        pre_x, pre_y, pre_th = self.actual_pose[-1]\n",
    "                \n",
    "        x = pre_x + d_dis * math.cos(pre_th)\n",
    "        y = pre_y + d_dis * math.sin(pre_th)\n",
    "        th = pre_th + d_th\n",
    "        \n",
    "        self.actual_pose.append(np.array([x, y, th]))\n",
    "    "
   ]
  },
  {
   "cell_type": "code",
   "execution_count": 74,
   "metadata": {},
   "outputs": [],
   "source": [
    "def plot(robot):\n",
    "    fig = plt.figure(figsize=(10, 10))\n",
    "    world = fig.add_subplot(1,1,1)\n",
    "    world.set_xlim(-1.0,1.0)\n",
    "    world.set_ylim(-0.5,1.5)\n",
    "\n",
    "    plt.scatter(0.1, 0.1, s=300, marker=\"*\", color=\"red\")\n",
    "    \n",
    "    xs = [e[0] for e in robot.actual_pose]\n",
    "    ys = [e[1] for e in robot.actual_pose]\n",
    "    vxs = [math.cos(e[2]) for e in robot.actual_pose]\n",
    "    vys = [math.sin(e[2]) for e in robot.actual_pose]\n",
    "    plt.quiver(xs,ys,vxs,vys, color=\"blue\")\n",
    "    \n",
    "    plt.show()"
   ]
  },
  {
   "cell_type": "code",
   "execution_count": 76,
   "metadata": {},
   "outputs": [
    {
     "data": {
      "image/png": "[encoded data removed]",
      "text/plain": [
       "<Figure size 720x720 with 1 Axes>"
      ]
     },
     "metadata": {
      "needs_background": "light"
     },
     "output_type": "display_data"
    }
   ],
   "source": [
    "robot = Robot(0, 0, 0)\n",
    "\n",
    "for i in range(0,10):\n",
    "    robot.updateRobotPos(0.01, 0.01)\n",
    "\n",
    "plot(robot)"
   ]
  },
  {
   "cell_type": "code",
   "execution_count": null,
   "metadata": {},
   "outputs": [],
   "source": []
  }
 ],
 "metadata": {
  "kernelspec": {
   "display_name": "Python 3",
   "language": "python",
   "name": "python3"
  },
  "language_info": {
   "codemirror_mode": {
    "name": "ipython",
    "version": 3
   },
   "file_extension": ".py",
   "mimetype": "text/x-python",
   "name": "python",
   "nbconvert_exporter": "python",
   "pygments_lexer": "ipython3",
   "version": "3.7.6"
  }
 },
 "nbformat": 4,
 "nbformat_minor": 4
}
