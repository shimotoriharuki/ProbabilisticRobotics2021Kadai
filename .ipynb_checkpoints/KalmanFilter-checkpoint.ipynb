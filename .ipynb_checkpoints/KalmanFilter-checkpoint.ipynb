{
 "cells": [
  {
   "cell_type": "markdown",
   "metadata": {},
   "source": [
    "# 確率ロボティクス 2021年度 課題\n",
    "拡張カルマンフィルタを用いた自己位置推定のアルゴリズムをシミュレーションする．"
   ]
  },
  {
   "cell_type": "code",
   "execution_count": 1,
   "metadata": {},
   "outputs": [],
   "source": [
    "# インポート\n",
    "import matplotlib.pyplot as plt\n",
    "import numpy as np\n",
    "import math"
   ]
  },
  {
   "cell_type": "code",
   "execution_count": 2,
   "metadata": {},
   "outputs": [
    {
     "name": "stdout",
     "output_type": "stream",
     "text": [
      "[0.00053988 0.00084174 0.001     ]\n"
     ]
    }
   ],
   "source": [
    "vtt = 0.1\n",
    "wtt = 0.1\n",
    "theta = 1\n",
    "dt  = 0.01\n",
    "dxt = np.array([-vtt / wtt * math.sin(theta) + vtt / wtt * math.sin(theta + wtt * dt), vtt/wtt*math.cos(theta)-vtt/wtt*math.cos(theta+wtt*dt), wtt*dt])\n",
    "\n",
    "print(dxt)"
   ]
  },
  {
   "cell_type": "code",
   "execution_count": 3,
   "metadata": {},
   "outputs": [],
   "source": [
    "class Robot:\n",
    "    def __init__(self, x, y, th):\n",
    "        #self.actual_pose = [np.array([x, y, th])]\n",
    "        #self.pose = [np.array([x, y, th])]\n",
    "        self.dt = 0.001\n",
    "        self.xt = np.array([x, y, th])\n",
    "        \n",
    "        \n",
    "    def updateRobotPos(self, vtt, wtt):\n",
    "        #pre_x_a, pre_y_a, pre_th_a = self.actual_pose[-1]\n",
    "          \n",
    "        #theta = self.actual_pose[0][2]\n",
    "        #xt = self.actual_pose[-1][]\n",
    "        theta = self.xt[2]\n",
    "        dxt = np.array([-vtt / wtt * math.sin(theta) + vtt / wtt * math.sin(theta + wtt * dt), vtt/wtt*math.cos(theta)-vtt/wtt*math.cos(theta+wtt*dt), wtt*dt])\n",
    "        self.xt = self.xt + dxt\n",
    "        \n",
    "        #self.actual_pose.append(xt)\n",
    "        \n",
    "        '''\n",
    "        x = pre_x_a + d_dis * math.cos(pre_th_a)\n",
    "        y = pre_y_a + d_dis * math.sin(pre_th_a)\n",
    "        th = pre_th_a + d_th\n",
    "        \n",
    "        self.actual_pose.append(np.array([x, y, th]))\n",
    "        \n",
    "        pre_x, pre_y, pre_th = self.pose[-1]\n",
    "                \n",
    "        x = pre_x + d_dis * math.cos(pre_th)\n",
    "        y = pre_y + d_dis * math.sin(pre_th)\n",
    "        th = pre_th + d_th\n",
    "        \n",
    "        self.pose.append(np.array([x, y, th]))\n",
    "        '''"
   ]
  },
  {
   "cell_type": "code",
   "execution_count": 4,
   "metadata": {},
   "outputs": [
    {
     "name": "stdout",
     "output_type": "stream",
     "text": [
      "1\n"
     ]
    }
   ],
   "source": [
    "robot = Robot(1, 2, 3)\n",
    "print(robot.xt[0])"
   ]
  },
  {
   "cell_type": "code",
   "execution_count": 5,
   "metadata": {},
   "outputs": [],
   "source": [
    "def plot(robot):\n",
    "    fig = plt.figure(figsize=(10, 10))\n",
    "    world = fig.add_subplot(1,1,1)\n",
    "    world.set_xlim(-1.0,1.0)\n",
    "    world.set_ylim(-0.5,1.5)\n",
    "\n",
    "    plt.scatter(0.1, 0.1, s=300, marker=\"*\", color=\"red\")\n",
    "    \n",
    "    '''\n",
    "    xs = robot.xt[0]\n",
    "    ys = robot.xt[1]\n",
    "    vxs = math.cos(robot.xt[2])\n",
    "    vys = math.sin(robot.xt[2])\n",
    "    plt.quiver(xs, ys, vxs, vys, color=\"gray\")\n",
    "    \n",
    "    xs = [e[0] for e in robot]\n",
    "    ys = [e[1] for e in robot]\n",
    "    vxs = [math.cos(e[2]) for e in robot]\n",
    "    vys = [math.sin(e[2]) for e in robot]\n",
    "    '''\n",
    "    xs = [0]\n",
    "    ys = [0]\n",
    "    vxs = [0]\n",
    "    vys = [0]\n",
    "    #print(robot)\n",
    "    for r in robot:\n",
    "        print(r[0][0])\n",
    "        \n",
    "        xs.append(r[0][0])\n",
    "        ys.append(r[0][1])\n",
    "        vxs.append(math.cos(r[0][2]))\n",
    "        vys.append(math.sin(r[0][2]))\n",
    "        \n",
    "    plt.quiver(xs, ys, vxs, vys, color=\"green\")\n",
    "\n",
    "    plt.show()"
   ]
  },
  {
   "cell_type": "code",
   "execution_count": 7,
   "metadata": {},
   "outputs": [
    {
     "name": "stdout",
     "output_type": "stream",
     "text": [
      "[0 0 0]\n",
      "[0.00000000e+00 0.00000000e+00 0.00000000e+00 9.99999833e-02\n",
      " 4.99999958e-05 1.00000000e-03]\n",
      "[0.00000000e+00 0.00000000e+00 0.00000000e+00 9.99999833e-02\n",
      " 4.99999958e-05 1.00000000e-03 9.99999833e-02 4.99999958e-05\n",
      " 1.00000000e-03]\n",
      "[0.00000000e+00 0.00000000e+00 0.00000000e+00 9.99999833e-02\n",
      " 4.99999958e-05 1.00000000e-03 9.99999833e-02 4.99999958e-05\n",
      " 1.00000000e-03 9.99999833e-02 4.99999958e-05 1.00000000e-03]\n",
      "[0.00000000e+00 0.00000000e+00 0.00000000e+00 9.99999833e-02\n",
      " 4.99999958e-05 1.00000000e-03 9.99999833e-02 4.99999958e-05\n",
      " 1.00000000e-03 9.99999833e-02 4.99999958e-05 1.00000000e-03\n",
      " 9.99999833e-02 4.99999958e-05 1.00000000e-03]\n",
      "[0.00000000e+00 0.00000000e+00 0.00000000e+00 9.99999833e-02\n",
      " 4.99999958e-05 1.00000000e-03 9.99999833e-02 4.99999958e-05\n",
      " 1.00000000e-03 9.99999833e-02 4.99999958e-05 1.00000000e-03\n",
      " 9.99999833e-02 4.99999958e-05 1.00000000e-03 9.99999833e-02\n",
      " 4.99999958e-05 1.00000000e-03]\n",
      "[0.00000000e+00 0.00000000e+00 0.00000000e+00 9.99999833e-02\n",
      " 4.99999958e-05 1.00000000e-03 9.99999833e-02 4.99999958e-05\n",
      " 1.00000000e-03 9.99999833e-02 4.99999958e-05 1.00000000e-03\n",
      " 9.99999833e-02 4.99999958e-05 1.00000000e-03 9.99999833e-02\n",
      " 4.99999958e-05 1.00000000e-03 9.99999833e-02 4.99999958e-05\n",
      " 1.00000000e-03]\n",
      "[0.00000000e+00 0.00000000e+00 0.00000000e+00 9.99999833e-02\n",
      " 4.99999958e-05 1.00000000e-03 9.99999833e-02 4.99999958e-05\n",
      " 1.00000000e-03 9.99999833e-02 4.99999958e-05 1.00000000e-03\n",
      " 9.99999833e-02 4.99999958e-05 1.00000000e-03 9.99999833e-02\n",
      " 4.99999958e-05 1.00000000e-03 9.99999833e-02 4.99999958e-05\n",
      " 1.00000000e-03 9.99999833e-02 4.99999958e-05 1.00000000e-03]\n",
      "[0.00000000e+00 0.00000000e+00 0.00000000e+00 9.99999833e-02\n",
      " 4.99999958e-05 1.00000000e-03 9.99999833e-02 4.99999958e-05\n",
      " 1.00000000e-03 9.99999833e-02 4.99999958e-05 1.00000000e-03\n",
      " 9.99999833e-02 4.99999958e-05 1.00000000e-03 9.99999833e-02\n",
      " 4.99999958e-05 1.00000000e-03 9.99999833e-02 4.99999958e-05\n",
      " 1.00000000e-03 9.99999833e-02 4.99999958e-05 1.00000000e-03\n",
      " 9.99999833e-02 4.99999958e-05 1.00000000e-03]\n",
      "[0.00000000e+00 0.00000000e+00 0.00000000e+00 9.99999833e-02\n",
      " 4.99999958e-05 1.00000000e-03 9.99999833e-02 4.99999958e-05\n",
      " 1.00000000e-03 9.99999833e-02 4.99999958e-05 1.00000000e-03\n",
      " 9.99999833e-02 4.99999958e-05 1.00000000e-03 9.99999833e-02\n",
      " 4.99999958e-05 1.00000000e-03 9.99999833e-02 4.99999958e-05\n",
      " 1.00000000e-03 9.99999833e-02 4.99999958e-05 1.00000000e-03\n",
      " 9.99999833e-02 4.99999958e-05 1.00000000e-03 9.99999833e-02\n",
      " 4.99999958e-05 1.00000000e-03]\n",
      "[0.00000000e+00 0.00000000e+00 0.00000000e+00 9.99999833e-02\n",
      " 4.99999958e-05 1.00000000e-03 9.99999833e-02 4.99999958e-05\n",
      " 1.00000000e-03 9.99999833e-02 4.99999958e-05 1.00000000e-03\n",
      " 9.99999833e-02 4.99999958e-05 1.00000000e-03 9.99999833e-02\n",
      " 4.99999958e-05 1.00000000e-03 9.99999833e-02 4.99999958e-05\n",
      " 1.00000000e-03 9.99999833e-02 4.99999958e-05 1.00000000e-03\n",
      " 9.99999833e-02 4.99999958e-05 1.00000000e-03 9.99999833e-02\n",
      " 4.99999958e-05 1.00000000e-03 9.99999833e-02 4.99999958e-05\n",
      " 1.00000000e-03]\n"
     ]
    }
   ],
   "source": [
    "robot = Robot(0, 0, 0)\n",
    "store_robot = [np.array([robot.xt])]\n",
    "\n",
    "for i in range(0, 10):\n",
    "    robot.updateRobotPos(10, 0.1)\n",
    "    store_robot.append(np.array([robot.xt]))\n",
    "    \n",
    "#print(store_robot)\n",
    "for r in store_robot:\n",
    "    print(r[0])\n",
    "plot(store_robot)"
   ]
  },
  {
   "cell_type": "code",
   "execution_count": null,
   "metadata": {},
   "outputs": [],
   "source": []
  },
  {
   "cell_type": "code",
   "execution_count": null,
   "metadata": {},
   "outputs": [],
   "source": []
  }
 ],
 "metadata": {
  "kernelspec": {
   "display_name": "Python 3",
   "language": "python",
   "name": "python3"
  },
  "language_info": {
   "codemirror_mode": {
    "name": "ipython",
    "version": 3
   },
   "file_extension": ".py",
   "mimetype": "text/x-python",
   "name": "python",
   "nbconvert_exporter": "python",
   "pygments_lexer": "ipython3",
   "version": "3.7.6"
  }
 },
 "nbformat": 4,
 "nbformat_minor": 4
}
