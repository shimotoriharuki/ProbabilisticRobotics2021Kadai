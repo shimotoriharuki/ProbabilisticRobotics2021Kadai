{
 "cells": [
  {
   "cell_type": "markdown",
   "metadata": {},
   "source": [
    "# 確率ロボティクス 2021年度 課題\n",
    "拡張カルマンフィルタを用いた自己位置推定のアルゴリズムをシミュレーションする．"
   ]
  },
  {
   "cell_type": "code",
   "execution_count": 1,
   "metadata": {},
   "outputs": [],
   "source": [
    "# インポート\n",
    "import matplotlib.pyplot as plt\n",
    "import numpy as np\n",
    "import math"
   ]
  },
  {
   "cell_type": "code",
   "execution_count": 34,
   "metadata": {},
   "outputs": [],
   "source": [
    "class Robot:\n",
    "    def __init__(self, x, y, th):\n",
    "        #self.actual_pose = [np.array([x, y, th])]\n",
    "        #self.pose = [np.array([x, y, th])]\n",
    "        self.dt = 0.01\n",
    "        self.xt = np.array([x, y, th])\n",
    "        self.actual_xt = np.array([x, y, th])\n",
    "        \n",
    "    def updateRobotPos(self, vt, wt): \n",
    "        theta = self.xt[2]\n",
    "        dxt = np.array([-vt / wt * math.sin(theta) + vt / wt * math.sin(theta + wt * self.dt), vt/wt*math.cos(theta)-vt/wt*math.cos(theta+wt*self.dt), wt*self.dt])\n",
    "        self.xt = self.xt + dxt\n",
    "\n",
    "        #vtt = vt * 1.1\n",
    "        #wtt = wt * 1.1\n",
    "        vtt = vt + np.random.normal(loc=0, scale=1)\n",
    "        wtt = wt + np.random.normal(loc=0, scale=1)\n",
    "        actual_theta = self.actual_xt[2]\n",
    "        actual_dxt = np.array([-vtt / wtt * math.sin(actual_theta) + vtt / wtt * math.sin(actual_theta + wtt * self.dt), vtt/wtt*math.cos(actual_theta)-vtt/wtt*math.cos(actual_theta+wtt*self.dt), wtt*self.dt])\n",
    "        self.actual_xt = self.actual_xt + actual_dxt"
   ]
  },
  {
   "cell_type": "code",
   "execution_count": 45,
   "metadata": {},
   "outputs": [],
   "source": [
    "def plot(robot, actual_robot, estimate_robot, m):\n",
    "    fig = plt.figure(figsize=(10, 10))\n",
    "    world = fig.add_subplot(1,1,1)\n",
    "    world.set_xlim(-1.0,1.0)\n",
    "    world.set_ylim(-0.5,1.5)\n",
    "\n",
    "    plt.scatter(m[0], m[1], s=100, marker=\"*\", color=\"red\")\n",
    "    \n",
    "    xs = [0]\n",
    "    ys = [0]\n",
    "    vxs = [0]\n",
    "    vys = [0]\n",
    "    for r in robot:\n",
    "        xs.append(r[0][0])\n",
    "        ys.append(r[0][1])\n",
    "        vxs.append(math.cos(r[0][2]))\n",
    "        vys.append(math.sin(r[0][2]))\n",
    "        \n",
    "    plt.quiver(xs, ys, vxs, vys, color=\"gray\", alpha = 0.2)\n",
    "    \n",
    "    xs = [0]\n",
    "    ys = [0]\n",
    "    vxs = [0]\n",
    "    vys = [0]\n",
    "    for r in actual_robot:\n",
    "        xs.append(r[0][0])\n",
    "        ys.append(r[0][1])\n",
    "        vxs.append(math.cos(r[0][2]))\n",
    "        vys.append(math.sin(r[0][2]))\n",
    "        #print(xs)\n",
    "        \n",
    "    plt.quiver(xs, ys, vxs, vys, color=\"green\", alpha = 0.5)\n",
    "    \n",
    "    xs = []\n",
    "    ys = []\n",
    "    vxs = []\n",
    "    vys = []\n",
    "    for r in estimate_robot:\n",
    "        xs.append(r[0][0])\n",
    "        ys.append(r[1][0])\n",
    "        vxs.append(math.cos(r[2][0]))\n",
    "        vys.append(math.sin(r[2][0]))\n",
    "        #print(xs)\n",
    "        \n",
    "    plt.quiver(xs, ys, vxs, vys, color=\"red\", alpha = 1.0)\n",
    "\n",
    "    plt.show()"
   ]
  },
  {
   "cell_type": "code",
   "execution_count": 46,
   "metadata": {},
   "outputs": [],
   "source": [
    "def ekf(mu_t1, sigma_t1, ut, zt, ct, m):\n",
    "    dt = 0.01\n",
    "    alpha = np.array([0.1, 0.1, 0.1, 0.1])\n",
    "    sigma_r = 0.01\n",
    "    sigma_phai = 0.5\n",
    "    sigma_s = 0.1\n",
    "    \n",
    "    theta = mu_t1[2];\n",
    "    vt = ut[0];\n",
    "    wt = ut[1];\n",
    "    \n",
    "    Gt = np.array([[1, 0, (-vt/wt)*math.cos(theta) + (vt/wt)*math.cos(theta+wt*dt)], [0, 1, (-vt/wt)*math.sin(theta) + (vt/wt)*math.sin(theta+wt*dt)], [0, 0, 1]])\n",
    "    Vt = np.array([[(-math.sin(theta)+math.sin(theta+wt*dt))/wt,  vt*(math.sin(theta)-math.sin(theta+wt*dt))/(wt^2)+vt*math.cos(theta+wt*dt)*dt/wt],\n",
    "          [(math.cos(theta)-math.cos(theta+wt*dt))/wt, -vt*(math.cos(theta)-math.cos(theta+wt*dt))/(wt^2)+vt*math.sin(theta+wt*dt)*dt/wt],\n",
    "          [0, dt]])\n",
    "    Mt = np.array([[alpha[0] * vt**2 + alpha[1] * wt**2, 0],\n",
    "          [0, alpha[2] * vt**2 + alpha[3] * wt**2]])\n",
    "    mu_tb = mu_t1 + np.array([[(-vt/wt)*math.sin(theta) + (vt/wt)*math.sin(theta+wt*dt)], [(vt/wt)*math.cos(theta) - (vt/wt)*math.cos(theta+wt*dt)], [wt*dt]])\n",
    "    sigma_tb = Gt.dot(sigma_t1).dot(Gt.T) + Vt.dot(Mt).dot(Vt.T)\n",
    "    Qt = np.array([[sigma_r**2, 0, 0], [0, sigma_phai**2, 0], [0, 0, sigma_s**2]])\n",
    "    \n",
    "    q = (m[0]-mu_tb[0][0])**2 + (m[1]-mu_tb[1][0])**2\n",
    "    zth = np.array([[math.sqrt(q)], [math.atan2(m[1]-mu_tb[1][0], m[0]-mu_tb[0][0]) - mu_tb[2][0]], [0]])\n",
    "    Ht = np.array([[-(m[0] - mu_tb[0][0]) / math.sqrt(q), -(m[1] - mu_tb[1][0]) / math.sqrt(q), 0], [(m[1] - mu_tb[1][0]) / q, -(m[0] - mu_tb[0][0]) / q, -1], [0, 0, 0]])\n",
    "    St = Ht.dot(sigma_tb).dot(Ht.T) + Qt\n",
    "    Kt = sigma_tb.dot(Ht.T).dot(np.linalg.inv(St))\n",
    "    mu_tb = mu_tb + Kt.dot((zt - zth))\n",
    "    sigma_tb = (np.eye(3) - Kt.dot(Ht)).dot(sigma_tb) \n",
    "\n",
    "    mu_t = mu_tb\n",
    "    sigma_t = sigma_tb\n",
    "    pzt = 0\n",
    "    \n",
    "    return mu_t, sigma_t, pzt"
   ]
  },
  {
   "cell_type": "code",
   "execution_count": 48,
   "metadata": {},
   "outputs": [
    {
     "data": {
      "image/png": "[encoded data removed]",
      "text/plain": [
       "<Figure size 720x720 with 1 Axes>"
      ]
     },
     "metadata": {
      "needs_background": "light"
     },
     "output_type": "display_data"
    }
   ],
   "source": [
    "robot = Robot(0, 0, 0)\n",
    "store_robot = [np.array([robot.xt])]\n",
    "store_actual_robot = [np.array([robot.actual_xt])]\n",
    "store_estimate_robot = []\n",
    "m = np.array([0, 0.75])\n",
    "\n",
    "mu_t = np.array([[robot.xt[0]], [robot.xt[1]], [robot.xt[2]]])\n",
    "sigma_t = np.array([[0.001**2,0,0], [0,0.001**2,0],[0,0,0.01**2]])\n",
    "\n",
    "\n",
    "mu_t1 = mu_t\n",
    "sigma_t1 = sigma_t\n",
    "ut = np.array([10, 15])\n",
    "ct = 1\n",
    "for i in range(0, 10):\n",
    "    #### 移動 ####\n",
    "    robot.updateRobotPos(ut[0], ut[1])\n",
    "    store_robot.append(np.array([robot.xt]))\n",
    "    store_actual_robot.append(np.array([robot.actual_xt]))\n",
    "    \n",
    "    #### 観測 ####\n",
    "    z = m - np.array([robot.actual_xt[0], robot.actual_xt[1]])\n",
    "    zt = np.array([[math.sqrt(z[0]**2+z[1]**2)], [math.atan2(z[1], z[0] - robot.actual_xt[2])], [0]])\n",
    "    \n",
    "    #### カルマンフィルタ #####\n",
    "    mu_t1 = mu_t\n",
    "    sigma_t1 = sigma_t\n",
    "    mu_t, sigma_t, pzt = ekf(mu_t1, sigma_t1, ut, zt, ct, m)\n",
    "    store_estimate_robot.append(mu_t)\n",
    "    \n",
    "#for r in store_estimate_robot:   \n",
    "    #print(r[1])\n",
    "    \n",
    "#print(store_robot)\n",
    "plot(store_robot, store_actual_robot, store_estimate_robot, m)"
   ]
  },
  {
   "cell_type": "code",
   "execution_count": null,
   "metadata": {},
   "outputs": [],
   "source": []
  },
  {
   "cell_type": "code",
   "execution_count": null,
   "metadata": {},
   "outputs": [],
   "source": []
  }
 ],
 "metadata": {
  "kernelspec": {
   "display_name": "Python 3",
   "language": "python",
   "name": "python3"
  },
  "language_info": {
   "codemirror_mode": {
    "name": "ipython",
    "version": 3
   },
   "file_extension": ".py",
   "mimetype": "text/x-python",
   "name": "python",
   "nbconvert_exporter": "python",
   "pygments_lexer": "ipython3",
   "version": "3.7.6"
  }
 },
 "nbformat": 4,
 "nbformat_minor": 4
}
