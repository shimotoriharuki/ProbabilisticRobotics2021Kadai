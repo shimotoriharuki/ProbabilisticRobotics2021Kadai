{
 "cells": [
  {
   "cell_type": "markdown",
   "metadata": {},
   "source": [
    "# 確率ロボティクス 2021年度 課題\n",
    "拡張カルマンフィルタを用いた自己位置推定のアルゴリズムをシミュレーションする．"
   ]
  },
  {
   "cell_type": "code",
   "execution_count": 1,
   "metadata": {},
   "outputs": [],
   "source": [
    "# インポート\n",
    "import matplotlib.pyplot as plt\n",
    "import numpy as np\n",
    "import math"
   ]
  },
  {
   "cell_type": "code",
   "execution_count": 2,
   "metadata": {},
   "outputs": [
    {
     "name": "stdout",
     "output_type": "stream",
     "text": [
      "[0.00053988 0.00084174 0.001     ]\n"
     ]
    }
   ],
   "source": [
    "vtt = 0.1\n",
    "wtt = 0.1\n",
    "theta = 1\n",
    "dt  = 0.01\n",
    "dxt = np.array([-vtt / wtt * math.sin(theta) + vtt / wtt * math.sin(theta + wtt * dt), vtt/wtt*math.cos(theta)-vtt/wtt*math.cos(theta+wtt*dt), wtt*dt])\n",
    "\n",
    "print(dxt)"
   ]
  },
  {
   "cell_type": "code",
   "execution_count": 6,
   "metadata": {},
   "outputs": [],
   "source": [
    "class Robot:\n",
    "    def __init__(self, x, y, th):\n",
    "        #self.actual_pose = [np.array([x, y, th])]\n",
    "        #self.pose = [np.array([x, y, th])]\n",
    "        self.dt = 0.001\n",
    "        self.xt = np.array([x, y, th])\n",
    "        self.actual_xt = np.array([x, y, th])\n",
    "        \n",
    "    def updateRobotPos(self, vt, wt): \n",
    "        vtt = vt * 1.1\n",
    "        wtt = wt * 1.1\n",
    "        theta = self.xt[2]\n",
    "        dxt = np.array([-vtt / wtt * math.sin(theta) + vtt / wtt * math.sin(theta + wtt * dt), vtt/wtt*math.cos(theta)-vtt/wtt*math.cos(theta+wtt*dt), wtt*dt])\n",
    "        self.xt = self.xt + dxt\n",
    "\n",
    "        \n",
    "        actual_theta = self.actual_xt[2]\n",
    "        actual_dxt = np.array([-vt / wt * math.sin(actual_theta) + vt / wt * math.sin(actual_theta + wt * dt), vt/wt*math.cos(actual_theta)-vt/wt*math.cos(actual_theta+wt*dt), wt*dt])\n",
    "        self.actual_xt = self.actual_xt + actual_dxt"
   ]
  },
  {
   "cell_type": "code",
   "execution_count": 7,
   "metadata": {},
   "outputs": [],
   "source": [
    "def plot(robot, actual_robot):\n",
    "    fig = plt.figure(figsize=(10, 10))\n",
    "    world = fig.add_subplot(1,1,1)\n",
    "    world.set_xlim(-1.0,1.0)\n",
    "    world.set_ylim(-0.5,1.5)\n",
    "\n",
    "    plt.scatter(0.1, 0.1, s=300, marker=\"*\", color=\"red\")\n",
    "    \n",
    "    xs = [0]\n",
    "    ys = [0]\n",
    "    vxs = [0]\n",
    "    vys = [0]\n",
    "    for r in robot:\n",
    "        xs.append(r[0][0])\n",
    "        ys.append(r[0][1])\n",
    "        vxs.append(math.cos(r[0][2]))\n",
    "        vys.append(math.sin(r[0][2]))\n",
    "        \n",
    "    plt.quiver(xs, ys, vxs, vys, color=\"green\")\n",
    "    \n",
    "    xs = [0]\n",
    "    ys = [0]\n",
    "    vxs = [0]\n",
    "    vys = [0]\n",
    "    for r in actual_robot:\n",
    "        xs.append(r[0][0])\n",
    "        ys.append(r[0][1])\n",
    "        vxs.append(math.cos(r[0][2]))\n",
    "        vys.append(math.sin(r[0][2]))\n",
    "        \n",
    "    plt.quiver(xs, ys, vxs, vys, color=\"gray\")\n",
    "\n",
    "    plt.show()"
   ]
  },
  {
   "cell_type": "code",
   "execution_count": 8,
   "metadata": {},
   "outputs": [
    {
     "data": {
      "image/png": "[encoded data removed]",
      "text/plain": [
       "<Figure size 720x720 with 1 Axes>"
      ]
     },
     "metadata": {
      "needs_background": "light"
     },
     "output_type": "display_data"
    }
   ],
   "source": [
    "robot = Robot(0, 0, 0)\n",
    "store_robot = [np.array([robot.xt])]\n",
    "store_actual_robot = [np.array([robot.actual_xt])]\n",
    "\n",
    "for i in range(0, 10):\n",
    "    robot.updateRobotPos(10, 10)\n",
    "    store_robot.append(np.array([robot.xt]))\n",
    "    store_actual_robot.append(np.array([robot.actual_xt]))\n",
    "    \n",
    "    #### カルマンフィルタ #####\n",
    "    \n",
    "    \n",
    "plot(store_robot, store_actual_robot)"
   ]
  },
  {
   "cell_type": "code",
   "execution_count": null,
   "metadata": {},
   "outputs": [],
   "source": []
  },
  {
   "cell_type": "code",
   "execution_count": null,
   "metadata": {},
   "outputs": [],
   "source": []
  }
 ],
 "metadata": {
  "kernelspec": {
   "display_name": "Python 3",
   "language": "python",
   "name": "python3"
  },
  "language_info": {
   "codemirror_mode": {
    "name": "ipython",
    "version": 3
   },
   "file_extension": ".py",
   "mimetype": "text/x-python",
   "name": "python",
   "nbconvert_exporter": "python",
   "pygments_lexer": "ipython3",
   "version": "3.7.6"
  }
 },
 "nbformat": 4,
 "nbformat_minor": 4
}
